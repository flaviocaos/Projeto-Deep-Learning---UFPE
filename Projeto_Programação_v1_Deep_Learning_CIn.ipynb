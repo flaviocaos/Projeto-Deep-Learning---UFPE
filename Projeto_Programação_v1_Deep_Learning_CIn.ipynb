{
  "nbformat": 4,
  "nbformat_minor": 0,
  "metadata": {
    "colab": {
      "provenance": [],
      "include_colab_link": true
    },
    "kernelspec": {
      "name": "python3",
      "display_name": "Python 3"
    },
    "language_info": {
      "name": "python"
    }
  },
  "cells": [
    {
      "cell_type": "markdown",
      "metadata": {
        "id": "view-in-github",
        "colab_type": "text"
      },
      "source": [
        "<a href=\"https://colab.research.google.com/github/flaviocaos/Projeto-Deep-Learning---UFPE/blob/main/Projeto_Programa%C3%A7%C3%A3o_v1_Deep_Learning_CIn.ipynb\" target=\"_parent\"><img src=\"https://colab.research.google.com/assets/colab-badge.svg\" alt=\"Open In Colab\"/></a>"
      ]
    },
    {
      "cell_type": "markdown",
      "source": [
        "# Projeto de programação - Base de saúde no trabalho remoto\n",
        "\n",
        "Equipe:\n",
        "\n",
        "Hiago </br>\n",
        "João Vitor Santos Tavares </br>\n",
        "Flávio </br>\n",
        "\n",
        "**Link para base:** [Remote Work Of Health Impact Survey June 2025](https://www.kaggle.com/datasets/kshitijsaini121/remote-work-of-health-impact-survey-june-2025)"
      ],
      "metadata": {
        "id": "mM50Z4LymBEv"
      }
    },
    {
      "cell_type": "markdown",
      "source": [
        "## Perguntas de pesquisa:\n",
        "\n",
        "1. Qual cargo tem o maior nível de burnout entre os pesquisados?\n",
        "2. Qual segmento da indústria apresenta maiores níveis de burnout?\n",
        "2. Qual cargo possui a maior faixa salarial?\n",
        "3. Dentre a diferentes faixas salariais, qual a que apresenta um melhor equilíbrio entre trabalho e vida pessoal?\n",
        "4. Qual porção continental apresenta maior incidência de níveis altos de burnout?\n",
        "5. Qual a proporção da ocorrência de estresse pós traumático (PTSD) entre os cargos? e a de TDAH?\n",
        "6. Existe alguma correlação entre a idade e a quantidade de horas trabalhadas?\n",
        "7. Qual região apresenta a maior média das horas de trabalho por semana?\n",
        "8. Qual a proporção dos tipos de trabalho (Remoto, Híbrido, Presencial) entre a regiões?\n",
        "9. Qual a proporção de níveis médios-altos de burnout entre os gêneros?\n",
        "10. Qual a proporção de gêneros por cargo?\n",
        "11. Qual o tipo de problema físico de saúde mais comum por gênero?\n",
        "12. Qual o tipo de problema de saúde mental mais comum por gênero?\n",
        "13. Qual cargo apresenta o maiores níveis de isolamento?\n",
        "14. Qual cargo apresenta os menores?"
      ],
      "metadata": {
        "id": "-MVBrkJ_qIIn"
      }
    },
    {
      "cell_type": "markdown",
      "source": [
        "## Download dos arquivos e configurações iniciais"
      ],
      "metadata": {
        "id": "DolEpmXEpgCg"
      }
    },
    {
      "cell_type": "code",
      "source": [
        "!curl -L -o ./remote-work-of-health-impact-survey-june-2025.zip https://www.kaggle.com/api/v1/datasets/download/kshitijsaini121/remote-work-of-health-impact-survey-june-2025"
      ],
      "metadata": {
        "colab": {
          "base_uri": "https://localhost:8080/"
        },
        "id": "5-ThTm8akYzN",
        "outputId": "f669fed3-d277-4a39-97b4-1e1aa32c13bd"
      },
      "execution_count": null,
      "outputs": [
        {
          "output_type": "stream",
          "name": "stdout",
          "text": [
            "  % Total    % Received % Xferd  Average Speed   Time    Time     Time  Current\n",
            "                                 Dload  Upload   Total   Spent    Left  Speed\n",
            "  0     0    0     0    0     0      0      0 --:--:-- --:--:-- --:--:--     0\n",
            "100 45354  100 45354    0     0  73366      0 --:--:-- --:--:-- --:--:-- 73366\n"
          ]
        }
      ]
    },
    {
      "cell_type": "code",
      "source": [
        "!unzip remote-work-of-health-impact-survey-june-2025.zip"
      ],
      "metadata": {
        "colab": {
          "base_uri": "https://localhost:8080/"
        },
        "id": "QnP-t2TPlQpU",
        "outputId": "9f7a0686-9ee0-4d11-8818-632b6f9f09a8"
      },
      "execution_count": null,
      "outputs": [
        {
          "output_type": "stream",
          "name": "stdout",
          "text": [
            "Archive:  remote-work-of-health-impact-survey-june-2025.zip\n",
            "  inflating: post_pandemic_remote_work_health_impact_2025.csv  \n"
          ]
        }
      ]
    },
    {
      "cell_type": "code",
      "execution_count": null,
      "metadata": {
        "id": "h4m8JXQkgHvx"
      },
      "outputs": [],
      "source": [
        "import pandas as pd\n",
        "import numpy as np\n",
        "import matplotlib.pyplot as plt\n",
        "import seaborn as sns\n",
        "\n",
        "%matplotlib inline"
      ]
    },
    {
      "cell_type": "markdown",
      "source": [
        "## Análise Exploratória"
      ],
      "metadata": {
        "id": "EllK1Mkqpkvs"
      }
    },
    {
      "cell_type": "code",
      "source": [
        "df: pd.DataFrame = pd.read_csv(\"./post_pandemic_remote_work_health_impact_2025.csv\")\n",
        "\n",
        "df.head()"
      ],
      "metadata": {
        "colab": {
          "base_uri": "https://localhost:8080/",
          "height": 313
        },
        "id": "3AUOzC0HkAiW",
        "outputId": "8452129f-58cf-4606-9235-6d9923c9600b"
      },
      "execution_count": null,
      "outputs": [
        {
          "output_type": "execute_result",
          "data": {
            "text/plain": [
              "  Survey_Date  Age  Gender         Region               Industry  \\\n",
              "0  2025-06-01   27  Female           Asia  Professional Services   \n",
              "1  2025-06-01   37  Female           Asia  Professional Services   \n",
              "2  2025-06-01   32  Female         Africa              Education   \n",
              "3  2025-06-01   40  Female         Europe              Education   \n",
              "4  2025-06-01   30    Male  South America          Manufacturing   \n",
              "\n",
              "           Job_Role Work_Arrangement  Hours_Per_Week Mental_Health_Status  \\\n",
              "0      Data Analyst           Onsite              64      Stress Disorder   \n",
              "1      Data Analyst           Onsite              37      Stress Disorder   \n",
              "2  Business Analyst           Onsite              36                 ADHD   \n",
              "3      Data Analyst           Onsite              63                 ADHD   \n",
              "4   DevOps Engineer           Hybrid              65                  NaN   \n",
              "\n",
              "  Burnout_Level  Work_Life_Balance_Score     Physical_Health_Issues  \\\n",
              "0          High                        3   Shoulder Pain; Neck Pain   \n",
              "1          High                        4                  Back Pain   \n",
              "2          High                        3  Shoulder Pain; Eye Strain   \n",
              "3        Medium                        1  Shoulder Pain; Eye Strain   \n",
              "4        Medium                        5                        NaN   \n",
              "\n",
              "   Social_Isolation_Score Salary_Range  \n",
              "0                       2     $40K-60K  \n",
              "1                       2    $80K-100K  \n",
              "2                       2    $80K-100K  \n",
              "3                       2     $60K-80K  \n",
              "4                       4     $60K-80K  "
            ],
            "text/html": [
              "\n",
              "  <div id=\"df-3f69016c-5744-4a73-b0f9-375f8cecea49\" class=\"colab-df-container\">\n",
              "    <div>\n",
              "<style scoped>\n",
              "    .dataframe tbody tr th:only-of-type {\n",
              "        vertical-align: middle;\n",
              "    }\n",
              "\n",
              "    .dataframe tbody tr th {\n",
              "        vertical-align: top;\n",
              "    }\n",
              "\n",
              "    .dataframe thead th {\n",
              "        text-align: right;\n",
              "    }\n",
              "</style>\n",
              "<table border=\"1\" class=\"dataframe\">\n",
              "  <thead>\n",
              "    <tr style=\"text-align: right;\">\n",
              "      <th></th>\n",
              "      <th>Survey_Date</th>\n",
              "      <th>Age</th>\n",
              "      <th>Gender</th>\n",
              "      <th>Region</th>\n",
              "      <th>Industry</th>\n",
              "      <th>Job_Role</th>\n",
              "      <th>Work_Arrangement</th>\n",
              "      <th>Hours_Per_Week</th>\n",
              "      <th>Mental_Health_Status</th>\n",
              "      <th>Burnout_Level</th>\n",
              "      <th>Work_Life_Balance_Score</th>\n",
              "      <th>Physical_Health_Issues</th>\n",
              "      <th>Social_Isolation_Score</th>\n",
              "      <th>Salary_Range</th>\n",
              "    </tr>\n",
              "  </thead>\n",
              "  <tbody>\n",
              "    <tr>\n",
              "      <th>0</th>\n",
              "      <td>2025-06-01</td>\n",
              "      <td>27</td>\n",
              "      <td>Female</td>\n",
              "      <td>Asia</td>\n",
              "      <td>Professional Services</td>\n",
              "      <td>Data Analyst</td>\n",
              "      <td>Onsite</td>\n",
              "      <td>64</td>\n",
              "      <td>Stress Disorder</td>\n",
              "      <td>High</td>\n",
              "      <td>3</td>\n",
              "      <td>Shoulder Pain; Neck Pain</td>\n",
              "      <td>2</td>\n",
              "      <td>$40K-60K</td>\n",
              "    </tr>\n",
              "    <tr>\n",
              "      <th>1</th>\n",
              "      <td>2025-06-01</td>\n",
              "      <td>37</td>\n",
              "      <td>Female</td>\n",
              "      <td>Asia</td>\n",
              "      <td>Professional Services</td>\n",
              "      <td>Data Analyst</td>\n",
              "      <td>Onsite</td>\n",
              "      <td>37</td>\n",
              "      <td>Stress Disorder</td>\n",
              "      <td>High</td>\n",
              "      <td>4</td>\n",
              "      <td>Back Pain</td>\n",
              "      <td>2</td>\n",
              "      <td>$80K-100K</td>\n",
              "    </tr>\n",
              "    <tr>\n",
              "      <th>2</th>\n",
              "      <td>2025-06-01</td>\n",
              "      <td>32</td>\n",
              "      <td>Female</td>\n",
              "      <td>Africa</td>\n",
              "      <td>Education</td>\n",
              "      <td>Business Analyst</td>\n",
              "      <td>Onsite</td>\n",
              "      <td>36</td>\n",
              "      <td>ADHD</td>\n",
              "      <td>High</td>\n",
              "      <td>3</td>\n",
              "      <td>Shoulder Pain; Eye Strain</td>\n",
              "      <td>2</td>\n",
              "      <td>$80K-100K</td>\n",
              "    </tr>\n",
              "    <tr>\n",
              "      <th>3</th>\n",
              "      <td>2025-06-01</td>\n",
              "      <td>40</td>\n",
              "      <td>Female</td>\n",
              "      <td>Europe</td>\n",
              "      <td>Education</td>\n",
              "      <td>Data Analyst</td>\n",
              "      <td>Onsite</td>\n",
              "      <td>63</td>\n",
              "      <td>ADHD</td>\n",
              "      <td>Medium</td>\n",
              "      <td>1</td>\n",
              "      <td>Shoulder Pain; Eye Strain</td>\n",
              "      <td>2</td>\n",
              "      <td>$60K-80K</td>\n",
              "    </tr>\n",
              "    <tr>\n",
              "      <th>4</th>\n",
              "      <td>2025-06-01</td>\n",
              "      <td>30</td>\n",
              "      <td>Male</td>\n",
              "      <td>South America</td>\n",
              "      <td>Manufacturing</td>\n",
              "      <td>DevOps Engineer</td>\n",
              "      <td>Hybrid</td>\n",
              "      <td>65</td>\n",
              "      <td>NaN</td>\n",
              "      <td>Medium</td>\n",
              "      <td>5</td>\n",
              "      <td>NaN</td>\n",
              "      <td>4</td>\n",
              "      <td>$60K-80K</td>\n",
              "    </tr>\n",
              "  </tbody>\n",
              "</table>\n",
              "</div>\n",
              "    <div class=\"colab-df-buttons\">\n",
              "\n",
              "  <div class=\"colab-df-container\">\n",
              "    <button class=\"colab-df-convert\" onclick=\"convertToInteractive('df-3f69016c-5744-4a73-b0f9-375f8cecea49')\"\n",
              "            title=\"Convert this dataframe to an interactive table.\"\n",
              "            style=\"display:none;\">\n",
              "\n",
              "  <svg xmlns=\"http://www.w3.org/2000/svg\" height=\"24px\" viewBox=\"0 -960 960 960\">\n",
              "    <path d=\"M120-120v-720h720v720H120Zm60-500h600v-160H180v160Zm220 220h160v-160H400v160Zm0 220h160v-160H400v160ZM180-400h160v-160H180v160Zm440 0h160v-160H620v160ZM180-180h160v-160H180v160Zm440 0h160v-160H620v160Z\"/>\n",
              "  </svg>\n",
              "    </button>\n",
              "\n",
              "  <style>\n",
              "    .colab-df-container {\n",
              "      display:flex;\n",
              "      gap: 12px;\n",
              "    }\n",
              "\n",
              "    .colab-df-convert {\n",
              "      background-color: #E8F0FE;\n",
              "      border: none;\n",
              "      border-radius: 50%;\n",
              "      cursor: pointer;\n",
              "      display: none;\n",
              "      fill: #1967D2;\n",
              "      height: 32px;\n",
              "      padding: 0 0 0 0;\n",
              "      width: 32px;\n",
              "    }\n",
              "\n",
              "    .colab-df-convert:hover {\n",
              "      background-color: #E2EBFA;\n",
              "      box-shadow: 0px 1px 2px rgba(60, 64, 67, 0.3), 0px 1px 3px 1px rgba(60, 64, 67, 0.15);\n",
              "      fill: #174EA6;\n",
              "    }\n",
              "\n",
              "    .colab-df-buttons div {\n",
              "      margin-bottom: 4px;\n",
              "    }\n",
              "\n",
              "    [theme=dark] .colab-df-convert {\n",
              "      background-color: #3B4455;\n",
              "      fill: #D2E3FC;\n",
              "    }\n",
              "\n",
              "    [theme=dark] .colab-df-convert:hover {\n",
              "      background-color: #434B5C;\n",
              "      box-shadow: 0px 1px 3px 1px rgba(0, 0, 0, 0.15);\n",
              "      filter: drop-shadow(0px 1px 2px rgba(0, 0, 0, 0.3));\n",
              "      fill: #FFFFFF;\n",
              "    }\n",
              "  </style>\n",
              "\n",
              "    <script>\n",
              "      const buttonEl =\n",
              "        document.querySelector('#df-3f69016c-5744-4a73-b0f9-375f8cecea49 button.colab-df-convert');\n",
              "      buttonEl.style.display =\n",
              "        google.colab.kernel.accessAllowed ? 'block' : 'none';\n",
              "\n",
              "      async function convertToInteractive(key) {\n",
              "        const element = document.querySelector('#df-3f69016c-5744-4a73-b0f9-375f8cecea49');\n",
              "        const dataTable =\n",
              "          await google.colab.kernel.invokeFunction('convertToInteractive',\n",
              "                                                    [key], {});\n",
              "        if (!dataTable) return;\n",
              "\n",
              "        const docLinkHtml = 'Like what you see? Visit the ' +\n",
              "          '<a target=\"_blank\" href=https://colab.research.google.com/notebooks/data_table.ipynb>data table notebook</a>'\n",
              "          + ' to learn more about interactive tables.';\n",
              "        element.innerHTML = '';\n",
              "        dataTable['output_type'] = 'display_data';\n",
              "        await google.colab.output.renderOutput(dataTable, element);\n",
              "        const docLink = document.createElement('div');\n",
              "        docLink.innerHTML = docLinkHtml;\n",
              "        element.appendChild(docLink);\n",
              "      }\n",
              "    </script>\n",
              "  </div>\n",
              "\n",
              "\n",
              "    <div id=\"df-899279ea-0d1d-4241-ba1e-5fec91ba0cde\">\n",
              "      <button class=\"colab-df-quickchart\" onclick=\"quickchart('df-899279ea-0d1d-4241-ba1e-5fec91ba0cde')\"\n",
              "                title=\"Suggest charts\"\n",
              "                style=\"display:none;\">\n",
              "\n",
              "<svg xmlns=\"http://www.w3.org/2000/svg\" height=\"24px\"viewBox=\"0 0 24 24\"\n",
              "     width=\"24px\">\n",
              "    <g>\n",
              "        <path d=\"M19 3H5c-1.1 0-2 .9-2 2v14c0 1.1.9 2 2 2h14c1.1 0 2-.9 2-2V5c0-1.1-.9-2-2-2zM9 17H7v-7h2v7zm4 0h-2V7h2v10zm4 0h-2v-4h2v4z\"/>\n",
              "    </g>\n",
              "</svg>\n",
              "      </button>\n",
              "\n",
              "<style>\n",
              "  .colab-df-quickchart {\n",
              "      --bg-color: #E8F0FE;\n",
              "      --fill-color: #1967D2;\n",
              "      --hover-bg-color: #E2EBFA;\n",
              "      --hover-fill-color: #174EA6;\n",
              "      --disabled-fill-color: #AAA;\n",
              "      --disabled-bg-color: #DDD;\n",
              "  }\n",
              "\n",
              "  [theme=dark] .colab-df-quickchart {\n",
              "      --bg-color: #3B4455;\n",
              "      --fill-color: #D2E3FC;\n",
              "      --hover-bg-color: #434B5C;\n",
              "      --hover-fill-color: #FFFFFF;\n",
              "      --disabled-bg-color: #3B4455;\n",
              "      --disabled-fill-color: #666;\n",
              "  }\n",
              "\n",
              "  .colab-df-quickchart {\n",
              "    background-color: var(--bg-color);\n",
              "    border: none;\n",
              "    border-radius: 50%;\n",
              "    cursor: pointer;\n",
              "    display: none;\n",
              "    fill: var(--fill-color);\n",
              "    height: 32px;\n",
              "    padding: 0;\n",
              "    width: 32px;\n",
              "  }\n",
              "\n",
              "  .colab-df-quickchart:hover {\n",
              "    background-color: var(--hover-bg-color);\n",
              "    box-shadow: 0 1px 2px rgba(60, 64, 67, 0.3), 0 1px 3px 1px rgba(60, 64, 67, 0.15);\n",
              "    fill: var(--button-hover-fill-color);\n",
              "  }\n",
              "\n",
              "  .colab-df-quickchart-complete:disabled,\n",
              "  .colab-df-quickchart-complete:disabled:hover {\n",
              "    background-color: var(--disabled-bg-color);\n",
              "    fill: var(--disabled-fill-color);\n",
              "    box-shadow: none;\n",
              "  }\n",
              "\n",
              "  .colab-df-spinner {\n",
              "    border: 2px solid var(--fill-color);\n",
              "    border-color: transparent;\n",
              "    border-bottom-color: var(--fill-color);\n",
              "    animation:\n",
              "      spin 1s steps(1) infinite;\n",
              "  }\n",
              "\n",
              "  @keyframes spin {\n",
              "    0% {\n",
              "      border-color: transparent;\n",
              "      border-bottom-color: var(--fill-color);\n",
              "      border-left-color: var(--fill-color);\n",
              "    }\n",
              "    20% {\n",
              "      border-color: transparent;\n",
              "      border-left-color: var(--fill-color);\n",
              "      border-top-color: var(--fill-color);\n",
              "    }\n",
              "    30% {\n",
              "      border-color: transparent;\n",
              "      border-left-color: var(--fill-color);\n",
              "      border-top-color: var(--fill-color);\n",
              "      border-right-color: var(--fill-color);\n",
              "    }\n",
              "    40% {\n",
              "      border-color: transparent;\n",
              "      border-right-color: var(--fill-color);\n",
              "      border-top-color: var(--fill-color);\n",
              "    }\n",
              "    60% {\n",
              "      border-color: transparent;\n",
              "      border-right-color: var(--fill-color);\n",
              "    }\n",
              "    80% {\n",
              "      border-color: transparent;\n",
              "      border-right-color: var(--fill-color);\n",
              "      border-bottom-color: var(--fill-color);\n",
              "    }\n",
              "    90% {\n",
              "      border-color: transparent;\n",
              "      border-bottom-color: var(--fill-color);\n",
              "    }\n",
              "  }\n",
              "</style>\n",
              "\n",
              "      <script>\n",
              "        async function quickchart(key) {\n",
              "          const quickchartButtonEl =\n",
              "            document.querySelector('#' + key + ' button');\n",
              "          quickchartButtonEl.disabled = true;  // To prevent multiple clicks.\n",
              "          quickchartButtonEl.classList.add('colab-df-spinner');\n",
              "          try {\n",
              "            const charts = await google.colab.kernel.invokeFunction(\n",
              "                'suggestCharts', [key], {});\n",
              "          } catch (error) {\n",
              "            console.error('Error during call to suggestCharts:', error);\n",
              "          }\n",
              "          quickchartButtonEl.classList.remove('colab-df-spinner');\n",
              "          quickchartButtonEl.classList.add('colab-df-quickchart-complete');\n",
              "        }\n",
              "        (() => {\n",
              "          let quickchartButtonEl =\n",
              "            document.querySelector('#df-899279ea-0d1d-4241-ba1e-5fec91ba0cde button');\n",
              "          quickchartButtonEl.style.display =\n",
              "            google.colab.kernel.accessAllowed ? 'block' : 'none';\n",
              "        })();\n",
              "      </script>\n",
              "    </div>\n",
              "\n",
              "    </div>\n",
              "  </div>\n"
            ],
            "application/vnd.google.colaboratory.intrinsic+json": {
              "type": "dataframe",
              "variable_name": "df",
              "summary": "{\n  \"name\": \"df\",\n  \"rows\": 3157,\n  \"fields\": [\n    {\n      \"column\": \"Survey_Date\",\n      \"properties\": {\n        \"dtype\": \"object\",\n        \"num_unique_values\": 26,\n        \"samples\": [\n          \"2025-06-09\",\n          \"2025-06-17\",\n          \"2025-06-01\"\n        ],\n        \"semantic_type\": \"\",\n        \"description\": \"\"\n      }\n    },\n    {\n      \"column\": \"Age\",\n      \"properties\": {\n        \"dtype\": \"number\",\n        \"std\": 12,\n        \"min\": 22,\n        \"max\": 65,\n        \"num_unique_values\": 44,\n        \"samples\": [\n          45,\n          33,\n          65\n        ],\n        \"semantic_type\": \"\",\n        \"description\": \"\"\n      }\n    },\n    {\n      \"column\": \"Gender\",\n      \"properties\": {\n        \"dtype\": \"category\",\n        \"num_unique_values\": 4,\n        \"samples\": [\n          \"Male\",\n          \"Prefer not to say\",\n          \"Female\"\n        ],\n        \"semantic_type\": \"\",\n        \"description\": \"\"\n      }\n    },\n    {\n      \"column\": \"Region\",\n      \"properties\": {\n        \"dtype\": \"category\",\n        \"num_unique_values\": 6,\n        \"samples\": [\n          \"Asia\",\n          \"Africa\",\n          \"North America\"\n        ],\n        \"semantic_type\": \"\",\n        \"description\": \"\"\n      }\n    },\n    {\n      \"column\": \"Industry\",\n      \"properties\": {\n        \"dtype\": \"category\",\n        \"num_unique_values\": 9,\n        \"samples\": [\n          \"Healthcare\",\n          \"Education\",\n          \"Finance\"\n        ],\n        \"semantic_type\": \"\",\n        \"description\": \"\"\n      }\n    },\n    {\n      \"column\": \"Job_Role\",\n      \"properties\": {\n        \"dtype\": \"category\",\n        \"num_unique_values\": 24,\n        \"samples\": [\n          \"Data Scientist\",\n          \"Customer Service Manager\",\n          \"Data Analyst\"\n        ],\n        \"semantic_type\": \"\",\n        \"description\": \"\"\n      }\n    },\n    {\n      \"column\": \"Work_Arrangement\",\n      \"properties\": {\n        \"dtype\": \"category\",\n        \"num_unique_values\": 3,\n        \"samples\": [\n          \"Onsite\",\n          \"Hybrid\",\n          \"Remote\"\n        ],\n        \"semantic_type\": \"\",\n        \"description\": \"\"\n      }\n    },\n    {\n      \"column\": \"Hours_Per_Week\",\n      \"properties\": {\n        \"dtype\": \"number\",\n        \"std\": 8,\n        \"min\": 35,\n        \"max\": 65,\n        \"num_unique_values\": 31,\n        \"samples\": [\n          56,\n          43,\n          50\n        ],\n        \"semantic_type\": \"\",\n        \"description\": \"\"\n      }\n    },\n    {\n      \"column\": \"Mental_Health_Status\",\n      \"properties\": {\n        \"dtype\": \"category\",\n        \"num_unique_values\": 6,\n        \"samples\": [\n          \"Stress Disorder\",\n          \"ADHD\",\n          \"Depression\"\n        ],\n        \"semantic_type\": \"\",\n        \"description\": \"\"\n      }\n    },\n    {\n      \"column\": \"Burnout_Level\",\n      \"properties\": {\n        \"dtype\": \"category\",\n        \"num_unique_values\": 3,\n        \"samples\": [\n          \"High\",\n          \"Medium\",\n          \"Low\"\n        ],\n        \"semantic_type\": \"\",\n        \"description\": \"\"\n      }\n    },\n    {\n      \"column\": \"Work_Life_Balance_Score\",\n      \"properties\": {\n        \"dtype\": \"number\",\n        \"std\": 1,\n        \"min\": 1,\n        \"max\": 5,\n        \"num_unique_values\": 5,\n        \"samples\": [\n          4,\n          2,\n          1\n        ],\n        \"semantic_type\": \"\",\n        \"description\": \"\"\n      }\n    },\n    {\n      \"column\": \"Physical_Health_Issues\",\n      \"properties\": {\n        \"dtype\": \"category\",\n        \"num_unique_values\": 31,\n        \"samples\": [\n          \"Back Pain; Shoulder Pain; Eye Strain; Neck Pain; Wrist Pain\",\n          \"Shoulder Pain; Eye Strain; Wrist Pain\",\n          \"Back Pain; Eye Strain; Neck Pain; Wrist Pain\"\n        ],\n        \"semantic_type\": \"\",\n        \"description\": \"\"\n      }\n    },\n    {\n      \"column\": \"Social_Isolation_Score\",\n      \"properties\": {\n        \"dtype\": \"number\",\n        \"std\": 1,\n        \"min\": 1,\n        \"max\": 5,\n        \"num_unique_values\": 5,\n        \"samples\": [\n          4,\n          5,\n          3\n        ],\n        \"semantic_type\": \"\",\n        \"description\": \"\"\n      }\n    },\n    {\n      \"column\": \"Salary_Range\",\n      \"properties\": {\n        \"dtype\": \"category\",\n        \"num_unique_values\": 5,\n        \"samples\": [\n          \"$80K-100K\",\n          \"$120K+\",\n          \"$60K-80K\"\n        ],\n        \"semantic_type\": \"\",\n        \"description\": \"\"\n      }\n    }\n  ]\n}"
            }
          },
          "metadata": {},
          "execution_count": 4
        }
      ]
    },
    {
      "cell_type": "code",
      "source": [
        "df.info()"
      ],
      "metadata": {
        "colab": {
          "base_uri": "https://localhost:8080/"
        },
        "id": "jGUWhMDeonvI",
        "outputId": "f49f2dc4-dbec-4525-b419-dfb2ccd1b5c4"
      },
      "execution_count": null,
      "outputs": [
        {
          "output_type": "stream",
          "name": "stdout",
          "text": [
            "<class 'pandas.core.frame.DataFrame'>\n",
            "RangeIndex: 3157 entries, 0 to 3156\n",
            "Data columns (total 14 columns):\n",
            " #   Column                   Non-Null Count  Dtype \n",
            "---  ------                   --------------  ----- \n",
            " 0   Survey_Date              3157 non-null   object\n",
            " 1   Age                      3157 non-null   int64 \n",
            " 2   Gender                   3157 non-null   object\n",
            " 3   Region                   3157 non-null   object\n",
            " 4   Industry                 3157 non-null   object\n",
            " 5   Job_Role                 3157 non-null   object\n",
            " 6   Work_Arrangement         3157 non-null   object\n",
            " 7   Hours_Per_Week           3157 non-null   int64 \n",
            " 8   Mental_Health_Status     2358 non-null   object\n",
            " 9   Burnout_Level            3157 non-null   object\n",
            " 10  Work_Life_Balance_Score  3157 non-null   int64 \n",
            " 11  Physical_Health_Issues   2877 non-null   object\n",
            " 12  Social_Isolation_Score   3157 non-null   int64 \n",
            " 13  Salary_Range             3157 non-null   object\n",
            "dtypes: int64(4), object(10)\n",
            "memory usage: 345.4+ KB\n"
          ]
        }
      ]
    },
    {
      "cell_type": "markdown",
      "source": [
        "### Analisando as colunas textuais/categóricas\n",
        "\n",
        "O objetivo desta análise é identificar, dentre as colunas textuais e categórias, qual ou quais necessitam de algum tipo de normalização."
      ],
      "metadata": {
        "id": "PfNc94QottBn"
      }
    },
    {
      "cell_type": "code",
      "source": [
        "exploratory_df: pd.DataFrame = df.copy()"
      ],
      "metadata": {
        "id": "BkV6EY1txvZ3"
      },
      "execution_count": null,
      "outputs": []
    },
    {
      "cell_type": "code",
      "source": [
        "exploratory_df['Physical_Health_Issues'].unique()"
      ],
      "metadata": {
        "colab": {
          "base_uri": "https://localhost:8080/"
        },
        "id": "033wI7KpsoW9",
        "outputId": "d336b4ec-5460-44f0-cf65-55ec616b08a0"
      },
      "execution_count": null,
      "outputs": [
        {
          "output_type": "execute_result",
          "data": {
            "text/plain": [
              "array(['Shoulder Pain; Neck Pain', 'Back Pain',\n",
              "       'Shoulder Pain; Eye Strain', nan, 'Back Pain; Shoulder Pain',\n",
              "       'Back Pain; Shoulder Pain; Wrist Pain', 'Neck Pain',\n",
              "       'Shoulder Pain', 'Eye Strain; Wrist Pain', 'Back Pain; Eye Strain',\n",
              "       'Back Pain; Shoulder Pain; Eye Strain', 'Back Pain; Wrist Pain',\n",
              "       'Shoulder Pain; Eye Strain; Neck Pain; Wrist Pain', 'Eye Strain',\n",
              "       'Back Pain; Shoulder Pain; Eye Strain; Neck Pain',\n",
              "       'Eye Strain; Neck Pain', 'Shoulder Pain; Eye Strain; Wrist Pain',\n",
              "       'Back Pain; Neck Pain', 'Wrist Pain',\n",
              "       'Back Pain; Shoulder Pain; Neck Pain',\n",
              "       'Back Pain; Eye Strain; Neck Pain',\n",
              "       'Back Pain; Shoulder Pain; Eye Strain; Wrist Pain',\n",
              "       'Shoulder Pain; Eye Strain; Neck Pain', 'Neck Pain; Wrist Pain',\n",
              "       'Back Pain; Eye Strain; Neck Pain; Wrist Pain',\n",
              "       'Back Pain; Eye Strain; Wrist Pain',\n",
              "       'Back Pain; Neck Pain; Wrist Pain', 'Shoulder Pain; Wrist Pain',\n",
              "       'Back Pain; Shoulder Pain; Eye Strain; Neck Pain; Wrist Pain',\n",
              "       'Back Pain; Shoulder Pain; Neck Pain; Wrist Pain',\n",
              "       'Eye Strain; Neck Pain; Wrist Pain',\n",
              "       'Shoulder Pain; Neck Pain; Wrist Pain'], dtype=object)"
            ]
          },
          "metadata": {},
          "execution_count": 7
        }
      ]
    },
    {
      "cell_type": "code",
      "source": [
        "exploratory_df['Mental_Health_Status'].unique()"
      ],
      "metadata": {
        "colab": {
          "base_uri": "https://localhost:8080/"
        },
        "id": "zHlOlRHbtB_Y",
        "outputId": "6c2f9e7e-3fcf-4dc1-f037-9bbe682b1e0c"
      },
      "execution_count": null,
      "outputs": [
        {
          "output_type": "execute_result",
          "data": {
            "text/plain": [
              "array(['Stress Disorder', 'ADHD', nan, 'Burnout', 'Anxiety', 'PTSD',\n",
              "       'Depression'], dtype=object)"
            ]
          },
          "metadata": {},
          "execution_count": 8
        }
      ]
    },
    {
      "cell_type": "code",
      "source": [
        "exploratory_df['Burnout_Level'].unique()"
      ],
      "metadata": {
        "colab": {
          "base_uri": "https://localhost:8080/"
        },
        "id": "v886pYxwtW7B",
        "outputId": "cb9a3a97-c088-4302-fcf0-683d6acc8516"
      },
      "execution_count": null,
      "outputs": [
        {
          "output_type": "execute_result",
          "data": {
            "text/plain": [
              "array(['High', 'Medium', 'Low'], dtype=object)"
            ]
          },
          "metadata": {},
          "execution_count": 9
        }
      ]
    },
    {
      "cell_type": "code",
      "source": [
        "exploratory_df['Salary_Range'].unique()"
      ],
      "metadata": {
        "colab": {
          "base_uri": "https://localhost:8080/"
        },
        "id": "u7ISgeX1tgBy",
        "outputId": "691f2bdf-6027-4cc8-fde3-9833cdde1630"
      },
      "execution_count": null,
      "outputs": [
        {
          "output_type": "execute_result",
          "data": {
            "text/plain": [
              "array(['$40K-60K', '$80K-100K', '$60K-80K', '$100K-120K', '$120K+'],\n",
              "      dtype=object)"
            ]
          },
          "metadata": {},
          "execution_count": 10
        }
      ]
    },
    {
      "cell_type": "code",
      "source": [
        "exploratory_df['Job_Role'].unique()"
      ],
      "metadata": {
        "colab": {
          "base_uri": "https://localhost:8080/"
        },
        "id": "Bf-Nky5rumhO",
        "outputId": "beecc007-a770-4a6d-c53e-4d36d8ed1d5a"
      },
      "execution_count": null,
      "outputs": [
        {
          "output_type": "execute_result",
          "data": {
            "text/plain": [
              "array(['Data Analyst', 'Business Analyst', 'DevOps Engineer',\n",
              "       'IT Support', 'Technical Writer', 'Software Engineer',\n",
              "       'HR Manager', 'Project Manager', 'Data Scientist', 'UX Designer',\n",
              "       'Social Media Manager', 'Digital Marketing Specialist',\n",
              "       'Account Manager', 'Research Scientist', 'Sales Representative',\n",
              "       'Operations Manager', 'Customer Service Manager',\n",
              "       'Product Manager', 'Quality Assurance', 'Executive Assistant',\n",
              "       'Financial Analyst', 'Marketing Specialist', 'Consultant',\n",
              "       'Content Writer'], dtype=object)"
            ]
          },
          "metadata": {},
          "execution_count": 11
        }
      ]
    },
    {
      "cell_type": "code",
      "source": [
        "exploratory_df['Industry'].unique()"
      ],
      "metadata": {
        "colab": {
          "base_uri": "https://localhost:8080/"
        },
        "id": "inKLaS0vvE-a",
        "outputId": "e6f869e2-5e6e-4d35-9bda-5050b5d0a41a"
      },
      "execution_count": null,
      "outputs": [
        {
          "output_type": "execute_result",
          "data": {
            "text/plain": [
              "array(['Professional Services', 'Education', 'Manufacturing',\n",
              "       'Customer Service', 'Technology', 'Finance', 'Retail',\n",
              "       'Healthcare', 'Marketing'], dtype=object)"
            ]
          },
          "metadata": {},
          "execution_count": 12
        }
      ]
    },
    {
      "cell_type": "code",
      "source": [
        "exploratory_df['Region'].unique()"
      ],
      "metadata": {
        "colab": {
          "base_uri": "https://localhost:8080/"
        },
        "id": "pu_IkE_gwWhj",
        "outputId": "925895f5-003d-4575-ec3b-969ba848a094"
      },
      "execution_count": null,
      "outputs": [
        {
          "output_type": "execute_result",
          "data": {
            "text/plain": [
              "array(['Asia', 'Africa', 'Europe', 'South America', 'Oceania',\n",
              "       'North America'], dtype=object)"
            ]
          },
          "metadata": {},
          "execution_count": 13
        }
      ]
    },
    {
      "cell_type": "code",
      "source": [
        "exploratory_df['Gender'].unique()"
      ],
      "metadata": {
        "colab": {
          "base_uri": "https://localhost:8080/"
        },
        "id": "6McQ0bGowbWO",
        "outputId": "92556e2d-8155-4fc9-b186-1deb2c2d6ebd"
      },
      "execution_count": null,
      "outputs": [
        {
          "output_type": "execute_result",
          "data": {
            "text/plain": [
              "array(['Female', 'Male', 'Non-binary', 'Prefer not to say'], dtype=object)"
            ]
          },
          "metadata": {},
          "execution_count": 14
        }
      ]
    },
    {
      "cell_type": "code",
      "source": [
        "exploratory_df['Work_Arrangement'].unique()"
      ],
      "metadata": {
        "colab": {
          "base_uri": "https://localhost:8080/"
        },
        "id": "xnhTPk0ixUUh",
        "outputId": "dc94679c-e7d2-4714-dddb-ba80012ee35b"
      },
      "execution_count": null,
      "outputs": [
        {
          "output_type": "execute_result",
          "data": {
            "text/plain": [
              "array(['Onsite', 'Hybrid', 'Remote'], dtype=object)"
            ]
          },
          "metadata": {},
          "execution_count": 15
        }
      ]
    },
    {
      "cell_type": "code",
      "source": [
        "exploratory_df.info()"
      ],
      "metadata": {
        "colab": {
          "base_uri": "https://localhost:8080/"
        },
        "id": "EH1bc7-PymCC",
        "outputId": "596429f4-073e-432d-ccb4-f9d1a61996c0"
      },
      "execution_count": null,
      "outputs": [
        {
          "output_type": "stream",
          "name": "stdout",
          "text": [
            "<class 'pandas.core.frame.DataFrame'>\n",
            "RangeIndex: 3157 entries, 0 to 3156\n",
            "Data columns (total 14 columns):\n",
            " #   Column                   Non-Null Count  Dtype \n",
            "---  ------                   --------------  ----- \n",
            " 0   Survey_Date              3157 non-null   object\n",
            " 1   Age                      3157 non-null   int64 \n",
            " 2   Gender                   3157 non-null   object\n",
            " 3   Region                   3157 non-null   object\n",
            " 4   Industry                 3157 non-null   object\n",
            " 5   Job_Role                 3157 non-null   object\n",
            " 6   Work_Arrangement         3157 non-null   object\n",
            " 7   Hours_Per_Week           3157 non-null   int64 \n",
            " 8   Mental_Health_Status     2358 non-null   object\n",
            " 9   Burnout_Level            3157 non-null   object\n",
            " 10  Work_Life_Balance_Score  3157 non-null   int64 \n",
            " 11  Physical_Health_Issues   2877 non-null   object\n",
            " 12  Social_Isolation_Score   3157 non-null   int64 \n",
            " 13  Salary_Range             3157 non-null   object\n",
            "dtypes: int64(4), object(10)\n",
            "memory usage: 345.4+ KB\n"
          ]
        }
      ]
    },
    {
      "cell_type": "markdown",
      "source": [
        "### Aplicando transformações/pré-processamento\n",
        "\n",
        "A maioria das colunas do dataset são textuais e/ou categóricas. Dessa forma, visando facilitar a manipulação dos dados categóricos e reduzir o uso de memória, realizaremos a conversão para o tipo categórico das colunas textuais com exceção de: Job_Role, Mental_Health_Status, Physical_Health_Issues e Region, uma vez que essas colunas representam nomes/substantivos e não categorias.\n",
        "\n",
        "Além disso, a coluna Physical_Health_Issues apresenta uma padronização errônea, que pode levar a um erro na hora de computar as métricas já que o valor da string \"Back pain\" será diferente de \"Back pain; Shoulder pain\" por exemplo.\n",
        "\n",
        "Por fim, para lidar com valores ausentes, os mesmos serão removidos, uma vez que não representam uma parcela tão grande da amostra. Além disso, o preenchimento de tais valores com uso da moda pode causar algum tipo de viés sob o cálculo das métricas, uma vez que a coluna que apresenta maior quantia de valores ausentes é a coluna de \"Mental_Health_Status\".\n",
        "\n",
        "Por se tratar de uma coluna onde os valores são naturalmente complexos não por questões de valor, mas por definição conceitual, faz-se a necessidade de evitar o enviesamento em tal coluna. O mesmo vale para \"Physical_Health_Issues\".\n",
        "\n",
        "Desta forma, o fluxo de transformações será:\n",
        "\n",
        "  1. Remover dados ausentes/NaN.\n",
        "  2. Converter os valores textuais aplicáveis para o tipo \"category\".\n",
        "  3. Aplicar one-hot encoding \"Physical_Health_Issues\".\n",
        "  4. Aplicar a ordem no caso de dados categóricos ordinais, como \"Burnout_Level\"."
      ],
      "metadata": {
        "id": "MYSiuoeUscQs"
      }
    },
    {
      "cell_type": "code",
      "source": [
        "# 1. Removendo dados ausentes\n",
        "transformed_df: pd.DataFrame = df.dropna()"
      ],
      "metadata": {
        "id": "v3V7DVpmps6C"
      },
      "execution_count": null,
      "outputs": []
    },
    {
      "cell_type": "code",
      "source": [
        "transformed_df['Gender'] = transformed_df['Gender'].astype('category')\n",
        "\n",
        "transformed_df['Gender'].cat.categories"
      ],
      "metadata": {
        "colab": {
          "base_uri": "https://localhost:8080/"
        },
        "id": "KUA6u-qV0i5G",
        "outputId": "a52064d7-7f1c-4ce7-a3b6-1257212f1773"
      },
      "execution_count": null,
      "outputs": [
        {
          "output_type": "stream",
          "name": "stderr",
          "text": [
            "/tmp/ipython-input-1811040249.py:1: SettingWithCopyWarning: \n",
            "A value is trying to be set on a copy of a slice from a DataFrame.\n",
            "Try using .loc[row_indexer,col_indexer] = value instead\n",
            "\n",
            "See the caveats in the documentation: https://pandas.pydata.org/pandas-docs/stable/user_guide/indexing.html#returning-a-view-versus-a-copy\n",
            "  transformed_df['Gender'] = transformed_df['Gender'].astype('category')\n"
          ]
        },
        {
          "output_type": "execute_result",
          "data": {
            "text/plain": [
              "Index(['Female', 'Male', 'Non-binary', 'Prefer not to say'], dtype='object')"
            ]
          },
          "metadata": {},
          "execution_count": 18
        }
      ]
    },
    {
      "cell_type": "code",
      "source": [
        "transformed_df['Industry'] = transformed_df['Industry'].astype('category')\n",
        "\n",
        "transformed_df['Industry'].cat.categories"
      ],
      "metadata": {
        "colab": {
          "base_uri": "https://localhost:8080/"
        },
        "id": "Lj8sT4j-1P9o",
        "outputId": "97906bce-aee0-4637-e4e1-50cc1209a078"
      },
      "execution_count": null,
      "outputs": [
        {
          "output_type": "stream",
          "name": "stderr",
          "text": [
            "/tmp/ipython-input-3652356810.py:1: SettingWithCopyWarning: \n",
            "A value is trying to be set on a copy of a slice from a DataFrame.\n",
            "Try using .loc[row_indexer,col_indexer] = value instead\n",
            "\n",
            "See the caveats in the documentation: https://pandas.pydata.org/pandas-docs/stable/user_guide/indexing.html#returning-a-view-versus-a-copy\n",
            "  transformed_df['Industry'] = transformed_df['Industry'].astype('category')\n"
          ]
        },
        {
          "output_type": "execute_result",
          "data": {
            "text/plain": [
              "Index(['Customer Service', 'Education', 'Finance', 'Healthcare',\n",
              "       'Manufacturing', 'Marketing', 'Professional Services', 'Retail',\n",
              "       'Technology'],\n",
              "      dtype='object')"
            ]
          },
          "metadata": {},
          "execution_count": 19
        }
      ]
    },
    {
      "cell_type": "code",
      "source": [
        "transformed_df['Work_Arrangement'] = transformed_df['Work_Arrangement'].astype('category')\n",
        "\n",
        "transformed_df['Work_Arrangement'].cat.categories"
      ],
      "metadata": {
        "colab": {
          "base_uri": "https://localhost:8080/"
        },
        "id": "-7Er6dLr1gBQ",
        "outputId": "d35d85ce-55c3-418a-c4a4-56ffbe2efbc2"
      },
      "execution_count": null,
      "outputs": [
        {
          "output_type": "stream",
          "name": "stderr",
          "text": [
            "/tmp/ipython-input-3712228458.py:1: SettingWithCopyWarning: \n",
            "A value is trying to be set on a copy of a slice from a DataFrame.\n",
            "Try using .loc[row_indexer,col_indexer] = value instead\n",
            "\n",
            "See the caveats in the documentation: https://pandas.pydata.org/pandas-docs/stable/user_guide/indexing.html#returning-a-view-versus-a-copy\n",
            "  transformed_df['Work_Arrangement'] = transformed_df['Work_Arrangement'].astype('category')\n"
          ]
        },
        {
          "output_type": "execute_result",
          "data": {
            "text/plain": [
              "Index(['Hybrid', 'Onsite', 'Remote'], dtype='object')"
            ]
          },
          "metadata": {},
          "execution_count": 20
        }
      ]
    },
    {
      "cell_type": "code",
      "source": [
        "transformed_df['Salary_Range'] = transformed_df['Salary_Range'].astype('category')\n",
        "\n",
        "cats = ['$40K-60K', '$60K-80K', '$80K-100K', '$100K-120K', '$120K+']\n",
        "\n",
        "transformed_df['Salary_Range'] = transformed_df['Salary_Range'].cat.reorder_categories(cats, ordered=True)\n",
        "\n",
        "transformed_df['Salary_Range'].cat.categories"
      ],
      "metadata": {
        "colab": {
          "base_uri": "https://localhost:8080/"
        },
        "id": "-IQL3DZr3gNA",
        "outputId": "434c11a6-4151-4ad2-8e7e-224ba8642daf"
      },
      "execution_count": null,
      "outputs": [
        {
          "output_type": "stream",
          "name": "stderr",
          "text": [
            "/tmp/ipython-input-2487134037.py:1: SettingWithCopyWarning: \n",
            "A value is trying to be set on a copy of a slice from a DataFrame.\n",
            "Try using .loc[row_indexer,col_indexer] = value instead\n",
            "\n",
            "See the caveats in the documentation: https://pandas.pydata.org/pandas-docs/stable/user_guide/indexing.html#returning-a-view-versus-a-copy\n",
            "  transformed_df['Salary_Range'] = transformed_df['Salary_Range'].astype('category')\n",
            "/tmp/ipython-input-2487134037.py:5: SettingWithCopyWarning: \n",
            "A value is trying to be set on a copy of a slice from a DataFrame.\n",
            "Try using .loc[row_indexer,col_indexer] = value instead\n",
            "\n",
            "See the caveats in the documentation: https://pandas.pydata.org/pandas-docs/stable/user_guide/indexing.html#returning-a-view-versus-a-copy\n",
            "  transformed_df['Salary_Range'] = transformed_df['Salary_Range'].cat.reorder_categories(cats, ordered=True)\n"
          ]
        },
        {
          "output_type": "execute_result",
          "data": {
            "text/plain": [
              "Index(['$40K-60K', '$60K-80K', '$80K-100K', '$100K-120K', '$120K+'], dtype='object')"
            ]
          },
          "metadata": {},
          "execution_count": 21
        }
      ]
    },
    {
      "cell_type": "code",
      "source": [
        "transformed_df['Burnout_Level'] = transformed_df['Burnout_Level'].astype('category')\n",
        "\n",
        "transformed_df['Burnout_Level'] = transformed_df['Burnout_Level'].cat.reorder_categories(['Low', 'Medium', 'High'], ordered=True)\n",
        "\n",
        "transformed_df['Burnout_Level'].cat.categories"
      ],
      "metadata": {
        "colab": {
          "base_uri": "https://localhost:8080/"
        },
        "id": "ivFlnIGe-nnP",
        "outputId": "8f889257-7a8e-4718-cc6e-7d25be1d40c5"
      },
      "execution_count": null,
      "outputs": [
        {
          "output_type": "execute_result",
          "data": {
            "text/plain": [
              "Index(['Low', 'Medium', 'High'], dtype='object')"
            ]
          },
          "metadata": {},
          "execution_count": 25
        }
      ]
    },
    {
      "cell_type": "code",
      "source": [
        "dummies = transformed_df['Physical_Health_Issues'].str.get_dummies(sep='; ')\n",
        "\n",
        "transformed_df = transformed_df.join(dummies)\n",
        "\n",
        "transformed_df.head()"
      ],
      "metadata": {
        "colab": {
          "base_uri": "https://localhost:8080/",
          "height": 330
        },
        "id": "Ul6VBysf4c7P",
        "outputId": "50479ac5-755b-47ae-ad07-94345692857c"
      },
      "execution_count": null,
      "outputs": [
        {
          "output_type": "execute_result",
          "data": {
            "text/plain": [
              "  Survey_Date  Age  Gender   Region               Industry          Job_Role  \\\n",
              "0  2025-06-01   27  Female     Asia  Professional Services      Data Analyst   \n",
              "1  2025-06-01   37  Female     Asia  Professional Services      Data Analyst   \n",
              "2  2025-06-01   32  Female   Africa              Education  Business Analyst   \n",
              "3  2025-06-01   40  Female   Europe              Education      Data Analyst   \n",
              "5  2025-06-01   52    Male  Oceania       Customer Service  Business Analyst   \n",
              "\n",
              "  Work_Arrangement  Hours_Per_Week Mental_Health_Status Burnout_Level  \\\n",
              "0           Onsite              64      Stress Disorder          High   \n",
              "1           Onsite              37      Stress Disorder          High   \n",
              "2           Onsite              36                 ADHD          High   \n",
              "3           Onsite              63                 ADHD        Medium   \n",
              "5           Onsite              61              Burnout        Medium   \n",
              "\n",
              "   Work_Life_Balance_Score     Physical_Health_Issues  Social_Isolation_Score  \\\n",
              "0                        3   Shoulder Pain; Neck Pain                       2   \n",
              "1                        4                  Back Pain                       2   \n",
              "2                        3  Shoulder Pain; Eye Strain                       2   \n",
              "3                        1  Shoulder Pain; Eye Strain                       2   \n",
              "5                        4   Back Pain; Shoulder Pain                       3   \n",
              "\n",
              "  Salary_Range  Back Pain  Eye Strain  Neck Pain  Shoulder Pain  Wrist Pain  \n",
              "0     $40K-60K          0           0          1              1           0  \n",
              "1    $80K-100K          1           0          0              0           0  \n",
              "2    $80K-100K          0           1          0              1           0  \n",
              "3     $60K-80K          0           1          0              1           0  \n",
              "5     $60K-80K          1           0          0              1           0  "
            ],
            "text/html": [
              "\n",
              "  <div id=\"df-461c325a-dd9b-474e-994a-d29e78f74b21\" class=\"colab-df-container\">\n",
              "    <div>\n",
              "<style scoped>\n",
              "    .dataframe tbody tr th:only-of-type {\n",
              "        vertical-align: middle;\n",
              "    }\n",
              "\n",
              "    .dataframe tbody tr th {\n",
              "        vertical-align: top;\n",
              "    }\n",
              "\n",
              "    .dataframe thead th {\n",
              "        text-align: right;\n",
              "    }\n",
              "</style>\n",
              "<table border=\"1\" class=\"dataframe\">\n",
              "  <thead>\n",
              "    <tr style=\"text-align: right;\">\n",
              "      <th></th>\n",
              "      <th>Survey_Date</th>\n",
              "      <th>Age</th>\n",
              "      <th>Gender</th>\n",
              "      <th>Region</th>\n",
              "      <th>Industry</th>\n",
              "      <th>Job_Role</th>\n",
              "      <th>Work_Arrangement</th>\n",
              "      <th>Hours_Per_Week</th>\n",
              "      <th>Mental_Health_Status</th>\n",
              "      <th>Burnout_Level</th>\n",
              "      <th>Work_Life_Balance_Score</th>\n",
              "      <th>Physical_Health_Issues</th>\n",
              "      <th>Social_Isolation_Score</th>\n",
              "      <th>Salary_Range</th>\n",
              "      <th>Back Pain</th>\n",
              "      <th>Eye Strain</th>\n",
              "      <th>Neck Pain</th>\n",
              "      <th>Shoulder Pain</th>\n",
              "      <th>Wrist Pain</th>\n",
              "    </tr>\n",
              "  </thead>\n",
              "  <tbody>\n",
              "    <tr>\n",
              "      <th>0</th>\n",
              "      <td>2025-06-01</td>\n",
              "      <td>27</td>\n",
              "      <td>Female</td>\n",
              "      <td>Asia</td>\n",
              "      <td>Professional Services</td>\n",
              "      <td>Data Analyst</td>\n",
              "      <td>Onsite</td>\n",
              "      <td>64</td>\n",
              "      <td>Stress Disorder</td>\n",
              "      <td>High</td>\n",
              "      <td>3</td>\n",
              "      <td>Shoulder Pain; Neck Pain</td>\n",
              "      <td>2</td>\n",
              "      <td>$40K-60K</td>\n",
              "      <td>0</td>\n",
              "      <td>0</td>\n",
              "      <td>1</td>\n",
              "      <td>1</td>\n",
              "      <td>0</td>\n",
              "    </tr>\n",
              "    <tr>\n",
              "      <th>1</th>\n",
              "      <td>2025-06-01</td>\n",
              "      <td>37</td>\n",
              "      <td>Female</td>\n",
              "      <td>Asia</td>\n",
              "      <td>Professional Services</td>\n",
              "      <td>Data Analyst</td>\n",
              "      <td>Onsite</td>\n",
              "      <td>37</td>\n",
              "      <td>Stress Disorder</td>\n",
              "      <td>High</td>\n",
              "      <td>4</td>\n",
              "      <td>Back Pain</td>\n",
              "      <td>2</td>\n",
              "      <td>$80K-100K</td>\n",
              "      <td>1</td>\n",
              "      <td>0</td>\n",
              "      <td>0</td>\n",
              "      <td>0</td>\n",
              "      <td>0</td>\n",
              "    </tr>\n",
              "    <tr>\n",
              "      <th>2</th>\n",
              "      <td>2025-06-01</td>\n",
              "      <td>32</td>\n",
              "      <td>Female</td>\n",
              "      <td>Africa</td>\n",
              "      <td>Education</td>\n",
              "      <td>Business Analyst</td>\n",
              "      <td>Onsite</td>\n",
              "      <td>36</td>\n",
              "      <td>ADHD</td>\n",
              "      <td>High</td>\n",
              "      <td>3</td>\n",
              "      <td>Shoulder Pain; Eye Strain</td>\n",
              "      <td>2</td>\n",
              "      <td>$80K-100K</td>\n",
              "      <td>0</td>\n",
              "      <td>1</td>\n",
              "      <td>0</td>\n",
              "      <td>1</td>\n",
              "      <td>0</td>\n",
              "    </tr>\n",
              "    <tr>\n",
              "      <th>3</th>\n",
              "      <td>2025-06-01</td>\n",
              "      <td>40</td>\n",
              "      <td>Female</td>\n",
              "      <td>Europe</td>\n",
              "      <td>Education</td>\n",
              "      <td>Data Analyst</td>\n",
              "      <td>Onsite</td>\n",
              "      <td>63</td>\n",
              "      <td>ADHD</td>\n",
              "      <td>Medium</td>\n",
              "      <td>1</td>\n",
              "      <td>Shoulder Pain; Eye Strain</td>\n",
              "      <td>2</td>\n",
              "      <td>$60K-80K</td>\n",
              "      <td>0</td>\n",
              "      <td>1</td>\n",
              "      <td>0</td>\n",
              "      <td>1</td>\n",
              "      <td>0</td>\n",
              "    </tr>\n",
              "    <tr>\n",
              "      <th>5</th>\n",
              "      <td>2025-06-01</td>\n",
              "      <td>52</td>\n",
              "      <td>Male</td>\n",
              "      <td>Oceania</td>\n",
              "      <td>Customer Service</td>\n",
              "      <td>Business Analyst</td>\n",
              "      <td>Onsite</td>\n",
              "      <td>61</td>\n",
              "      <td>Burnout</td>\n",
              "      <td>Medium</td>\n",
              "      <td>4</td>\n",
              "      <td>Back Pain; Shoulder Pain</td>\n",
              "      <td>3</td>\n",
              "      <td>$60K-80K</td>\n",
              "      <td>1</td>\n",
              "      <td>0</td>\n",
              "      <td>0</td>\n",
              "      <td>1</td>\n",
              "      <td>0</td>\n",
              "    </tr>\n",
              "  </tbody>\n",
              "</table>\n",
              "</div>\n",
              "    <div class=\"colab-df-buttons\">\n",
              "\n",
              "  <div class=\"colab-df-container\">\n",
              "    <button class=\"colab-df-convert\" onclick=\"convertToInteractive('df-461c325a-dd9b-474e-994a-d29e78f74b21')\"\n",
              "            title=\"Convert this dataframe to an interactive table.\"\n",
              "            style=\"display:none;\">\n",
              "\n",
              "  <svg xmlns=\"http://www.w3.org/2000/svg\" height=\"24px\" viewBox=\"0 -960 960 960\">\n",
              "    <path d=\"M120-120v-720h720v720H120Zm60-500h600v-160H180v160Zm220 220h160v-160H400v160Zm0 220h160v-160H400v160ZM180-400h160v-160H180v160Zm440 0h160v-160H620v160ZM180-180h160v-160H180v160Zm440 0h160v-160H620v160Z\"/>\n",
              "  </svg>\n",
              "    </button>\n",
              "\n",
              "  <style>\n",
              "    .colab-df-container {\n",
              "      display:flex;\n",
              "      gap: 12px;\n",
              "    }\n",
              "\n",
              "    .colab-df-convert {\n",
              "      background-color: #E8F0FE;\n",
              "      border: none;\n",
              "      border-radius: 50%;\n",
              "      cursor: pointer;\n",
              "      display: none;\n",
              "      fill: #1967D2;\n",
              "      height: 32px;\n",
              "      padding: 0 0 0 0;\n",
              "      width: 32px;\n",
              "    }\n",
              "\n",
              "    .colab-df-convert:hover {\n",
              "      background-color: #E2EBFA;\n",
              "      box-shadow: 0px 1px 2px rgba(60, 64, 67, 0.3), 0px 1px 3px 1px rgba(60, 64, 67, 0.15);\n",
              "      fill: #174EA6;\n",
              "    }\n",
              "\n",
              "    .colab-df-buttons div {\n",
              "      margin-bottom: 4px;\n",
              "    }\n",
              "\n",
              "    [theme=dark] .colab-df-convert {\n",
              "      background-color: #3B4455;\n",
              "      fill: #D2E3FC;\n",
              "    }\n",
              "\n",
              "    [theme=dark] .colab-df-convert:hover {\n",
              "      background-color: #434B5C;\n",
              "      box-shadow: 0px 1px 3px 1px rgba(0, 0, 0, 0.15);\n",
              "      filter: drop-shadow(0px 1px 2px rgba(0, 0, 0, 0.3));\n",
              "      fill: #FFFFFF;\n",
              "    }\n",
              "  </style>\n",
              "\n",
              "    <script>\n",
              "      const buttonEl =\n",
              "        document.querySelector('#df-461c325a-dd9b-474e-994a-d29e78f74b21 button.colab-df-convert');\n",
              "      buttonEl.style.display =\n",
              "        google.colab.kernel.accessAllowed ? 'block' : 'none';\n",
              "\n",
              "      async function convertToInteractive(key) {\n",
              "        const element = document.querySelector('#df-461c325a-dd9b-474e-994a-d29e78f74b21');\n",
              "        const dataTable =\n",
              "          await google.colab.kernel.invokeFunction('convertToInteractive',\n",
              "                                                    [key], {});\n",
              "        if (!dataTable) return;\n",
              "\n",
              "        const docLinkHtml = 'Like what you see? Visit the ' +\n",
              "          '<a target=\"_blank\" href=https://colab.research.google.com/notebooks/data_table.ipynb>data table notebook</a>'\n",
              "          + ' to learn more about interactive tables.';\n",
              "        element.innerHTML = '';\n",
              "        dataTable['output_type'] = 'display_data';\n",
              "        await google.colab.output.renderOutput(dataTable, element);\n",
              "        const docLink = document.createElement('div');\n",
              "        docLink.innerHTML = docLinkHtml;\n",
              "        element.appendChild(docLink);\n",
              "      }\n",
              "    </script>\n",
              "  </div>\n",
              "\n",
              "\n",
              "    <div id=\"df-3ad7d0a5-2e50-4cbb-a494-2f3552aafaa4\">\n",
              "      <button class=\"colab-df-quickchart\" onclick=\"quickchart('df-3ad7d0a5-2e50-4cbb-a494-2f3552aafaa4')\"\n",
              "                title=\"Suggest charts\"\n",
              "                style=\"display:none;\">\n",
              "\n",
              "<svg xmlns=\"http://www.w3.org/2000/svg\" height=\"24px\"viewBox=\"0 0 24 24\"\n",
              "     width=\"24px\">\n",
              "    <g>\n",
              "        <path d=\"M19 3H5c-1.1 0-2 .9-2 2v14c0 1.1.9 2 2 2h14c1.1 0 2-.9 2-2V5c0-1.1-.9-2-2-2zM9 17H7v-7h2v7zm4 0h-2V7h2v10zm4 0h-2v-4h2v4z\"/>\n",
              "    </g>\n",
              "</svg>\n",
              "      </button>\n",
              "\n",
              "<style>\n",
              "  .colab-df-quickchart {\n",
              "      --bg-color: #E8F0FE;\n",
              "      --fill-color: #1967D2;\n",
              "      --hover-bg-color: #E2EBFA;\n",
              "      --hover-fill-color: #174EA6;\n",
              "      --disabled-fill-color: #AAA;\n",
              "      --disabled-bg-color: #DDD;\n",
              "  }\n",
              "\n",
              "  [theme=dark] .colab-df-quickchart {\n",
              "      --bg-color: #3B4455;\n",
              "      --fill-color: #D2E3FC;\n",
              "      --hover-bg-color: #434B5C;\n",
              "      --hover-fill-color: #FFFFFF;\n",
              "      --disabled-bg-color: #3B4455;\n",
              "      --disabled-fill-color: #666;\n",
              "  }\n",
              "\n",
              "  .colab-df-quickchart {\n",
              "    background-color: var(--bg-color);\n",
              "    border: none;\n",
              "    border-radius: 50%;\n",
              "    cursor: pointer;\n",
              "    display: none;\n",
              "    fill: var(--fill-color);\n",
              "    height: 32px;\n",
              "    padding: 0;\n",
              "    width: 32px;\n",
              "  }\n",
              "\n",
              "  .colab-df-quickchart:hover {\n",
              "    background-color: var(--hover-bg-color);\n",
              "    box-shadow: 0 1px 2px rgba(60, 64, 67, 0.3), 0 1px 3px 1px rgba(60, 64, 67, 0.15);\n",
              "    fill: var(--button-hover-fill-color);\n",
              "  }\n",
              "\n",
              "  .colab-df-quickchart-complete:disabled,\n",
              "  .colab-df-quickchart-complete:disabled:hover {\n",
              "    background-color: var(--disabled-bg-color);\n",
              "    fill: var(--disabled-fill-color);\n",
              "    box-shadow: none;\n",
              "  }\n",
              "\n",
              "  .colab-df-spinner {\n",
              "    border: 2px solid var(--fill-color);\n",
              "    border-color: transparent;\n",
              "    border-bottom-color: var(--fill-color);\n",
              "    animation:\n",
              "      spin 1s steps(1) infinite;\n",
              "  }\n",
              "\n",
              "  @keyframes spin {\n",
              "    0% {\n",
              "      border-color: transparent;\n",
              "      border-bottom-color: var(--fill-color);\n",
              "      border-left-color: var(--fill-color);\n",
              "    }\n",
              "    20% {\n",
              "      border-color: transparent;\n",
              "      border-left-color: var(--fill-color);\n",
              "      border-top-color: var(--fill-color);\n",
              "    }\n",
              "    30% {\n",
              "      border-color: transparent;\n",
              "      border-left-color: var(--fill-color);\n",
              "      border-top-color: var(--fill-color);\n",
              "      border-right-color: var(--fill-color);\n",
              "    }\n",
              "    40% {\n",
              "      border-color: transparent;\n",
              "      border-right-color: var(--fill-color);\n",
              "      border-top-color: var(--fill-color);\n",
              "    }\n",
              "    60% {\n",
              "      border-color: transparent;\n",
              "      border-right-color: var(--fill-color);\n",
              "    }\n",
              "    80% {\n",
              "      border-color: transparent;\n",
              "      border-right-color: var(--fill-color);\n",
              "      border-bottom-color: var(--fill-color);\n",
              "    }\n",
              "    90% {\n",
              "      border-color: transparent;\n",
              "      border-bottom-color: var(--fill-color);\n",
              "    }\n",
              "  }\n",
              "</style>\n",
              "\n",
              "      <script>\n",
              "        async function quickchart(key) {\n",
              "          const quickchartButtonEl =\n",
              "            document.querySelector('#' + key + ' button');\n",
              "          quickchartButtonEl.disabled = true;  // To prevent multiple clicks.\n",
              "          quickchartButtonEl.classList.add('colab-df-spinner');\n",
              "          try {\n",
              "            const charts = await google.colab.kernel.invokeFunction(\n",
              "                'suggestCharts', [key], {});\n",
              "          } catch (error) {\n",
              "            console.error('Error during call to suggestCharts:', error);\n",
              "          }\n",
              "          quickchartButtonEl.classList.remove('colab-df-spinner');\n",
              "          quickchartButtonEl.classList.add('colab-df-quickchart-complete');\n",
              "        }\n",
              "        (() => {\n",
              "          let quickchartButtonEl =\n",
              "            document.querySelector('#df-3ad7d0a5-2e50-4cbb-a494-2f3552aafaa4 button');\n",
              "          quickchartButtonEl.style.display =\n",
              "            google.colab.kernel.accessAllowed ? 'block' : 'none';\n",
              "        })();\n",
              "      </script>\n",
              "    </div>\n",
              "\n",
              "    </div>\n",
              "  </div>\n"
            ],
            "application/vnd.google.colaboratory.intrinsic+json": {
              "type": "dataframe",
              "variable_name": "transformed_df",
              "summary": "{\n  \"name\": \"transformed_df\",\n  \"rows\": 2150,\n  \"fields\": [\n    {\n      \"column\": \"Survey_Date\",\n      \"properties\": {\n        \"dtype\": \"object\",\n        \"num_unique_values\": 26,\n        \"samples\": [\n          \"2025-06-09\",\n          \"2025-06-17\",\n          \"2025-06-01\"\n        ],\n        \"semantic_type\": \"\",\n        \"description\": \"\"\n      }\n    },\n    {\n      \"column\": \"Age\",\n      \"properties\": {\n        \"dtype\": \"number\",\n        \"std\": 12,\n        \"min\": 22,\n        \"max\": 65,\n        \"num_unique_values\": 44,\n        \"samples\": [\n          43,\n          41,\n          29\n        ],\n        \"semantic_type\": \"\",\n        \"description\": \"\"\n      }\n    },\n    {\n      \"column\": \"Gender\",\n      \"properties\": {\n        \"dtype\": \"category\",\n        \"num_unique_values\": 4,\n        \"samples\": [\n          \"Male\",\n          \"Prefer not to say\",\n          \"Female\"\n        ],\n        \"semantic_type\": \"\",\n        \"description\": \"\"\n      }\n    },\n    {\n      \"column\": \"Region\",\n      \"properties\": {\n        \"dtype\": \"category\",\n        \"num_unique_values\": 6,\n        \"samples\": [\n          \"Asia\",\n          \"Africa\",\n          \"North America\"\n        ],\n        \"semantic_type\": \"\",\n        \"description\": \"\"\n      }\n    },\n    {\n      \"column\": \"Industry\",\n      \"properties\": {\n        \"dtype\": \"category\",\n        \"num_unique_values\": 9,\n        \"samples\": [\n          \"Healthcare\",\n          \"Education\",\n          \"Retail\"\n        ],\n        \"semantic_type\": \"\",\n        \"description\": \"\"\n      }\n    },\n    {\n      \"column\": \"Job_Role\",\n      \"properties\": {\n        \"dtype\": \"category\",\n        \"num_unique_values\": 24,\n        \"samples\": [\n          \"Sales Representative\",\n          \"Project Manager\",\n          \"Data Analyst\"\n        ],\n        \"semantic_type\": \"\",\n        \"description\": \"\"\n      }\n    },\n    {\n      \"column\": \"Work_Arrangement\",\n      \"properties\": {\n        \"dtype\": \"category\",\n        \"num_unique_values\": 3,\n        \"samples\": [\n          \"Onsite\",\n          \"Remote\",\n          \"Hybrid\"\n        ],\n        \"semantic_type\": \"\",\n        \"description\": \"\"\n      }\n    },\n    {\n      \"column\": \"Hours_Per_Week\",\n      \"properties\": {\n        \"dtype\": \"number\",\n        \"std\": 8,\n        \"min\": 35,\n        \"max\": 65,\n        \"num_unique_values\": 31,\n        \"samples\": [\n          52,\n          48,\n          62\n        ],\n        \"semantic_type\": \"\",\n        \"description\": \"\"\n      }\n    },\n    {\n      \"column\": \"Mental_Health_Status\",\n      \"properties\": {\n        \"dtype\": \"category\",\n        \"num_unique_values\": 6,\n        \"samples\": [\n          \"Stress Disorder\",\n          \"ADHD\",\n          \"Depression\"\n        ],\n        \"semantic_type\": \"\",\n        \"description\": \"\"\n      }\n    },\n    {\n      \"column\": \"Burnout_Level\",\n      \"properties\": {\n        \"dtype\": \"category\",\n        \"num_unique_values\": 3,\n        \"samples\": [\n          \"High\",\n          \"Medium\",\n          \"Low\"\n        ],\n        \"semantic_type\": \"\",\n        \"description\": \"\"\n      }\n    },\n    {\n      \"column\": \"Work_Life_Balance_Score\",\n      \"properties\": {\n        \"dtype\": \"number\",\n        \"std\": 1,\n        \"min\": 1,\n        \"max\": 5,\n        \"num_unique_values\": 5,\n        \"samples\": [\n          4,\n          5,\n          1\n        ],\n        \"semantic_type\": \"\",\n        \"description\": \"\"\n      }\n    },\n    {\n      \"column\": \"Physical_Health_Issues\",\n      \"properties\": {\n        \"dtype\": \"category\",\n        \"num_unique_values\": 31,\n        \"samples\": [\n          \"Back Pain; Shoulder Pain; Eye Strain; Neck Pain; Wrist Pain\",\n          \"Shoulder Pain; Eye Strain; Wrist Pain\",\n          \"Back Pain; Eye Strain; Neck Pain; Wrist Pain\"\n        ],\n        \"semantic_type\": \"\",\n        \"description\": \"\"\n      }\n    },\n    {\n      \"column\": \"Social_Isolation_Score\",\n      \"properties\": {\n        \"dtype\": \"number\",\n        \"std\": 1,\n        \"min\": 1,\n        \"max\": 5,\n        \"num_unique_values\": 5,\n        \"samples\": [\n          3,\n          5,\n          4\n        ],\n        \"semantic_type\": \"\",\n        \"description\": \"\"\n      }\n    },\n    {\n      \"column\": \"Salary_Range\",\n      \"properties\": {\n        \"dtype\": \"category\",\n        \"num_unique_values\": 5,\n        \"samples\": [\n          \"$80K-100K\",\n          \"$100K-120K\",\n          \"$60K-80K\"\n        ],\n        \"semantic_type\": \"\",\n        \"description\": \"\"\n      }\n    },\n    {\n      \"column\": \"Back Pain\",\n      \"properties\": {\n        \"dtype\": \"number\",\n        \"std\": 0,\n        \"min\": 0,\n        \"max\": 1,\n        \"num_unique_values\": 2,\n        \"samples\": [\n          1,\n          0\n        ],\n        \"semantic_type\": \"\",\n        \"description\": \"\"\n      }\n    },\n    {\n      \"column\": \"Eye Strain\",\n      \"properties\": {\n        \"dtype\": \"number\",\n        \"std\": 0,\n        \"min\": 0,\n        \"max\": 1,\n        \"num_unique_values\": 2,\n        \"samples\": [\n          1,\n          0\n        ],\n        \"semantic_type\": \"\",\n        \"description\": \"\"\n      }\n    },\n    {\n      \"column\": \"Neck Pain\",\n      \"properties\": {\n        \"dtype\": \"number\",\n        \"std\": 0,\n        \"min\": 0,\n        \"max\": 1,\n        \"num_unique_values\": 2,\n        \"samples\": [\n          0,\n          1\n        ],\n        \"semantic_type\": \"\",\n        \"description\": \"\"\n      }\n    },\n    {\n      \"column\": \"Shoulder Pain\",\n      \"properties\": {\n        \"dtype\": \"number\",\n        \"std\": 0,\n        \"min\": 0,\n        \"max\": 1,\n        \"num_unique_values\": 2,\n        \"samples\": [\n          0,\n          1\n        ],\n        \"semantic_type\": \"\",\n        \"description\": \"\"\n      }\n    },\n    {\n      \"column\": \"Wrist Pain\",\n      \"properties\": {\n        \"dtype\": \"number\",\n        \"std\": 0,\n        \"min\": 0,\n        \"max\": 1,\n        \"num_unique_values\": 2,\n        \"samples\": [\n          1,\n          0\n        ],\n        \"semantic_type\": \"\",\n        \"description\": \"\"\n      }\n    }\n  ]\n}"
            }
          },
          "metadata": {},
          "execution_count": 22
        }
      ]
    },
    {
      "cell_type": "code",
      "source": [
        "transformed_df.info()"
      ],
      "metadata": {
        "colab": {
          "base_uri": "https://localhost:8080/"
        },
        "id": "qlPCqXRy-A6O",
        "outputId": "e9935131-97b6-48ed-b0e7-5643683f5380"
      },
      "execution_count": null,
      "outputs": [
        {
          "output_type": "stream",
          "name": "stdout",
          "text": [
            "<class 'pandas.core.frame.DataFrame'>\n",
            "Index: 2150 entries, 0 to 3156\n",
            "Data columns (total 19 columns):\n",
            " #   Column                   Non-Null Count  Dtype   \n",
            "---  ------                   --------------  -----   \n",
            " 0   Survey_Date              2150 non-null   object  \n",
            " 1   Age                      2150 non-null   int64   \n",
            " 2   Gender                   2150 non-null   category\n",
            " 3   Region                   2150 non-null   object  \n",
            " 4   Industry                 2150 non-null   category\n",
            " 5   Job_Role                 2150 non-null   object  \n",
            " 6   Work_Arrangement         2150 non-null   category\n",
            " 7   Hours_Per_Week           2150 non-null   int64   \n",
            " 8   Mental_Health_Status     2150 non-null   object  \n",
            " 9   Burnout_Level            2150 non-null   object  \n",
            " 10  Work_Life_Balance_Score  2150 non-null   int64   \n",
            " 11  Physical_Health_Issues   2150 non-null   object  \n",
            " 12  Social_Isolation_Score   2150 non-null   int64   \n",
            " 13  Salary_Range             2150 non-null   category\n",
            " 14  Back Pain                2150 non-null   int64   \n",
            " 15  Eye Strain               2150 non-null   int64   \n",
            " 16  Neck Pain                2150 non-null   int64   \n",
            " 17  Shoulder Pain            2150 non-null   int64   \n",
            " 18  Wrist Pain               2150 non-null   int64   \n",
            "dtypes: category(4), int64(9), object(6)\n",
            "memory usage: 342.6+ KB\n"
          ]
        }
      ]
    },
    {
      "cell_type": "code",
      "source": [
        "transformed_df.to_csv('./remote_work_health_transformed.csv', index=False)"
      ],
      "metadata": {
        "id": "3zYZFJDO_B6q"
      },
      "execution_count": null,
      "outputs": []
    },
    {
      "cell_type": "markdown",
      "source": [
        "## Análise exploratória"
      ],
      "metadata": {
        "id": "neZdYJuA-5cY"
      }
    },
    {
      "cell_type": "code",
      "source": [],
      "metadata": {
        "id": "9fBNuD3J-7zh"
      },
      "execution_count": null,
      "outputs": []
    }
  ]
}